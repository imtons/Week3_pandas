{
  "cells": [
    {
      "cell_type": "markdown",
      "metadata": {
        "pycharm": {
          "name": "#%% md\n"
        },
        "id": "jhgZwElBgVKI"
      },
      "source": [
        "# US - Baby Names"
      ]
    },
    {
      "cell_type": "markdown",
      "metadata": {
        "pycharm": {
          "name": "#%% md\n"
        },
        "id": "L2-Z6smCgVKK"
      },
      "source": [
        "### Introduction:\n",
        "\n",
        "We are going to use a subset of [US Baby Names](https://www.kaggle.com/kaggle/us-baby-names) from Kaggle.  \n",
        "In the file it will be names from 2004 until 2014\n",
        "\n",
        "\n",
        "### Step 1. Import the necessary libraries"
      ]
    },
    {
      "cell_type": "code",
      "execution_count": 1,
      "metadata": {
        "pycharm": {
          "name": "#%%\n"
        },
        "id": "GS4SjYhugVKL"
      },
      "outputs": [],
      "source": [
        "import pandas as pd\n"
      ]
    },
    {
      "cell_type": "markdown",
      "metadata": {
        "pycharm": {
          "name": "#%% md\n"
        },
        "id": "5YvfaGKpgVKM"
      },
      "source": [
        "### Step 2. Import the dataset from this [address](https://raw.githubusercontent.com/thieu1995/csv-files/main/data/pandas/US_Baby_Names_right.csv)."
      ]
    },
    {
      "cell_type": "markdown",
      "metadata": {
        "pycharm": {
          "name": "#%% md\n"
        },
        "id": "ypGSIiQvgVKM"
      },
      "source": [
        "### Step 3. Assign it to a variable called baby_names."
      ]
    },
    {
      "cell_type": "code",
      "execution_count": 3,
      "metadata": {
        "pycharm": {
          "name": "#%%\n"
        },
        "id": "Ts0iHbicgVKM"
      },
      "outputs": [],
      "source": [
        "baby_names = pd.read_csv('us_baby.tsv', sep='\\t')\n"
      ]
    },
    {
      "cell_type": "markdown",
      "metadata": {
        "pycharm": {
          "name": "#%% md\n"
        },
        "id": "s-Bm51fdgVKM"
      },
      "source": [
        "### Step 4. See the first 10 entries"
      ]
    },
    {
      "cell_type": "code",
      "execution_count": 4,
      "metadata": {
        "pycharm": {
          "name": "#%%\n"
        },
        "colab": {
          "base_uri": "https://localhost:8080/"
        },
        "id": "I94iGrHigVKN",
        "outputId": "68f45c7c-1ae0-48d0-b62c-ca7545ff3a0f"
      },
      "outputs": [
        {
          "output_type": "stream",
          "name": "stdout",
          "text": [
            "    ,Id,Name,Year,Gender,State,Count\n",
            "0      11349,11350,Emma,2004,F,AK,62\n",
            "1   11350,11351,Madison,2004,F,AK,48\n",
            "2    11351,11352,Hannah,2004,F,AK,46\n",
            "3     11352,11353,Grace,2004,F,AK,44\n",
            "4     11353,11354,Emily,2004,F,AK,41\n",
            "5   11354,11355,Abigail,2004,F,AK,37\n",
            "6    11355,11356,Olivia,2004,F,AK,33\n",
            "7  11356,11357,Isabella,2004,F,AK,30\n",
            "8    11357,11358,Alyssa,2004,F,AK,29\n",
            "9    11358,11359,Sophia,2004,F,AK,28\n"
          ]
        }
      ],
      "source": [
        "print(baby_names.head(10))\n"
      ]
    },
    {
      "cell_type": "markdown",
      "metadata": {
        "pycharm": {
          "name": "#%% md\n"
        },
        "id": "wcGpYkiUgVKN"
      },
      "source": [
        "### Step 5. Delete the column 'Unnamed: 0' and 'Id'"
      ]
    },
    {
      "cell_type": "code",
      "execution_count": 5,
      "metadata": {
        "pycharm": {
          "name": "#%%\n"
        },
        "id": "58Wiq2kRgVKN"
      },
      "outputs": [],
      "source": [
        "baby_names.drop(columns=[col for col in ['Unnamed: 0', 'Id'] if col in baby_names.columns], inplace=True)\n"
      ]
    },
    {
      "cell_type": "markdown",
      "metadata": {
        "pycharm": {
          "name": "#%% md\n"
        },
        "id": "U2XTd9j2gVKN"
      },
      "source": [
        "### Step 6. Is there more male or female names in the dataset?"
      ]
    },
    {
      "cell_type": "code",
      "execution_count": 10,
      "metadata": {
        "pycharm": {
          "name": "#%%\n"
        },
        "colab": {
          "base_uri": "https://localhost:8080/"
        },
        "id": "o5_WPc4sgVKN",
        "outputId": "817dbc65-279b-4e06-a2bd-6e4fce70b512"
      },
      "outputs": [
        {
          "output_type": "stream",
          "name": "stdout",
          "text": [
            "   Index     Id     Name  Year Gender State  Count\n",
            "0  11349  11350     Emma  2004      F    AK     62\n",
            "1  11350  11351  Madison  2004      F    AK     48\n",
            "2  11351  11352   Hannah  2004      F    AK     46\n",
            "3  11352  11353    Grace  2004      F    AK     44\n",
            "4  11353  11354    Emily  2004      F    AK     41\n",
            "Gender\n",
            "F    558846\n",
            "M    457549\n",
            "Name: count, dtype: int64\n"
          ]
        }
      ],
      "source": [
        "baby_names = pd.read_csv('us_baby.tsv', sep=',', header=None, skiprows=1)\n",
        "baby_names.columns = ['Index', 'Id', 'Name', 'Year', 'Gender', 'State', 'Count']\n",
        "\n",
        "print(baby_names.head())\n",
        "baby_names.drop(columns=['Index', 'Id'], inplace=True)\n",
        "\n",
        "print(baby_names['Gender'].value_counts())\n"
      ]
    },
    {
      "cell_type": "markdown",
      "metadata": {
        "pycharm": {
          "name": "#%% md\n"
        },
        "id": "MzXW4Ue9gVKO"
      },
      "source": [
        "### Step 7. Group the dataset by name and assign to names"
      ]
    },
    {
      "cell_type": "code",
      "execution_count": 11,
      "metadata": {
        "pycharm": {
          "name": "#%%\n"
        },
        "id": "-ppj24eIgVKO"
      },
      "outputs": [],
      "source": [
        "names = baby_names.groupby('Name').agg({'Count': 'sum'}).reset_index()\n"
      ]
    },
    {
      "cell_type": "markdown",
      "metadata": {
        "pycharm": {
          "name": "#%% md\n"
        },
        "id": "NDDDbkRPgVKO"
      },
      "source": [
        "### Step 8. How many different names exist in the dataset?"
      ]
    },
    {
      "cell_type": "code",
      "execution_count": 12,
      "metadata": {
        "pycharm": {
          "name": "#%%\n"
        },
        "colab": {
          "base_uri": "https://localhost:8080/"
        },
        "id": "gDi4jj0ugVKO",
        "outputId": "27bd7b1c-1fa1-441c-8d75-2977aaea35f2"
      },
      "outputs": [
        {
          "output_type": "stream",
          "name": "stdout",
          "text": [
            "Number of different names: 17632\n"
          ]
        }
      ],
      "source": [
        "print(\"Number of different names:\", names['Name'].nunique())\n"
      ]
    },
    {
      "cell_type": "markdown",
      "metadata": {
        "pycharm": {
          "name": "#%% md\n"
        },
        "id": "MqzyZcvOgVKO"
      },
      "source": [
        "### Step 9. What is the name with most occurrences?"
      ]
    },
    {
      "cell_type": "code",
      "execution_count": 13,
      "metadata": {
        "pycharm": {
          "name": "#%%\n"
        },
        "colab": {
          "base_uri": "https://localhost:8080/"
        },
        "id": "lhP4HeWhgVKO",
        "outputId": "5496d052-6ee0-420c-ee32-f8e74bb30619"
      },
      "outputs": [
        {
          "output_type": "stream",
          "name": "stdout",
          "text": [
            "Most common name:\n",
            "        Name   Count\n",
            "7198  Jacob  242874\n"
          ]
        }
      ],
      "source": [
        "most_common_name = names[names['Count'] == names['Count'].max()]\n",
        "print(\"Most common name:\\n\", most_common_name)\n"
      ]
    },
    {
      "cell_type": "markdown",
      "metadata": {
        "pycharm": {
          "name": "#%% md\n"
        },
        "id": "V3p6bseLgVKO"
      },
      "source": [
        "### Step 10. How many different names have the least occurrences?"
      ]
    },
    {
      "cell_type": "code",
      "execution_count": 14,
      "metadata": {
        "pycharm": {
          "name": "#%%\n"
        },
        "colab": {
          "base_uri": "https://localhost:8080/"
        },
        "id": "xz-ftD3BgVKO",
        "outputId": "33574f0c-5fe0-4eeb-b165-c1b9e9c53beb"
      },
      "outputs": [
        {
          "output_type": "stream",
          "name": "stdout",
          "text": [
            "Number of least common names: 2578\n"
          ]
        }
      ],
      "source": [
        "least_common = names[names['Count'] == names['Count'].min()]\n",
        "print(\"Number of least common names:\", len(least_common))\n"
      ]
    },
    {
      "cell_type": "markdown",
      "metadata": {
        "pycharm": {
          "name": "#%% md\n"
        },
        "id": "VMafxK23gVKP"
      },
      "source": [
        "### Step 11. What is the median name occurrence?"
      ]
    },
    {
      "cell_type": "code",
      "execution_count": 15,
      "metadata": {
        "pycharm": {
          "name": "#%%\n"
        },
        "colab": {
          "base_uri": "https://localhost:8080/"
        },
        "id": "MwGAln03gVKP",
        "outputId": "1f19ee75-77f9-45f7-d390-4a7e3a3ac5d1"
      },
      "outputs": [
        {
          "output_type": "stream",
          "name": "stdout",
          "text": [
            "Median of name occurrences: 49.0\n"
          ]
        }
      ],
      "source": [
        "print(\"Median of name occurrences:\", names['Count'].median())\n"
      ]
    },
    {
      "cell_type": "markdown",
      "metadata": {
        "pycharm": {
          "name": "#%% md\n"
        },
        "id": "y4ydffT0gVKP"
      },
      "source": [
        "### Step 12. What is the standard deviation of names?"
      ]
    },
    {
      "cell_type": "code",
      "execution_count": 16,
      "metadata": {
        "pycharm": {
          "name": "#%%\n"
        },
        "colab": {
          "base_uri": "https://localhost:8080/"
        },
        "id": "x9um-rXSgVKP",
        "outputId": "bbbed0cc-9cfb-4551-d3d3-08ee12905df0"
      },
      "outputs": [
        {
          "output_type": "stream",
          "name": "stdout",
          "text": [
            "Standard deviation: 11006.069467891111\n"
          ]
        }
      ],
      "source": [
        "print(\"Standard deviation:\", names['Count'].std())\n"
      ]
    },
    {
      "cell_type": "markdown",
      "metadata": {
        "pycharm": {
          "name": "#%% md\n"
        },
        "id": "NMfiLReLgVKP"
      },
      "source": [
        "### Step 13. Get a summary with the mean, min, max, std and quartiles."
      ]
    },
    {
      "cell_type": "code",
      "execution_count": 17,
      "metadata": {
        "pycharm": {
          "name": "#%%\n"
        },
        "colab": {
          "base_uri": "https://localhost:8080/"
        },
        "id": "yLfowvwDgVKP",
        "outputId": "4e6c7206-307d-41bb-9472-091998606d71"
      },
      "outputs": [
        {
          "output_type": "stream",
          "name": "stdout",
          "text": [
            "Summary statistics:\n",
            "count     17632.000000\n",
            "mean       2008.932169\n",
            "std       11006.069468\n",
            "min           5.000000\n",
            "25%          11.000000\n",
            "50%          49.000000\n",
            "75%         337.000000\n",
            "max      242874.000000\n",
            "Name: Count, dtype: float64\n"
          ]
        }
      ],
      "source": [
        "print(\"Summary statistics:\")\n",
        "print(names['Count'].describe())"
      ]
    }
  ],
  "metadata": {
    "anaconda-cloud": {},
    "kernelspec": {
      "display_name": "Python [default]",
      "language": "python",
      "name": "python2"
    },
    "language_info": {
      "codemirror_mode": {
        "name": "ipython",
        "version": 2
      },
      "file_extension": ".py",
      "mimetype": "text/x-python",
      "name": "python",
      "nbconvert_exporter": "python",
      "pygments_lexer": "ipython2",
      "version": "2.7.11"
    },
    "colab": {
      "provenance": []
    }
  },
  "nbformat": 4,
  "nbformat_minor": 0
}