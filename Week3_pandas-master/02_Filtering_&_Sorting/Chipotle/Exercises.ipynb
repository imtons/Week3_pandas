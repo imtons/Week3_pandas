{
  "cells": [
    {
      "cell_type": "markdown",
      "metadata": {
        "pycharm": {
          "name": "#%% md\n"
        },
        "id": "d1jzp_f5ld_L"
      },
      "source": [
        "# Ex1 - Filtering and Sorting Data"
      ]
    },
    {
      "cell_type": "markdown",
      "metadata": {
        "pycharm": {
          "name": "#%% md\n"
        },
        "id": "JQC5hsdold_N"
      },
      "source": [
        "This time we are going to pull data directly from the internet.\n",
        "Special thanks to: https://github.com/justmarkham for sharing the dataset and materials.\n",
        "\n",
        "### Step 1. Import the necessary libraries"
      ]
    },
    {
      "cell_type": "code",
      "execution_count": 1,
      "metadata": {
        "pycharm": {
          "name": "#%%\n",
          "is_executing": true
        },
        "id": "eWY9HQnDld_O"
      },
      "outputs": [],
      "source": [
        "import pandas as pd\n"
      ]
    },
    {
      "cell_type": "markdown",
      "metadata": {
        "pycharm": {
          "name": "#%% md\n"
        },
        "id": "NMMIIDkAld_O"
      },
      "source": [
        "### Step 2. Import the dataset from this [address](https://raw.githubusercontent.com/thieu1995/csv-files/main/data/pandas/chipotle.tsv)."
      ]
    },
    {
      "cell_type": "markdown",
      "metadata": {
        "pycharm": {
          "name": "#%% md\n"
        },
        "id": "naIG1dR9ld_P"
      },
      "source": [
        "### Step 3. Assign it to a variable called chipo."
      ]
    },
    {
      "cell_type": "code",
      "execution_count": 2,
      "metadata": {
        "pycharm": {
          "name": "#%%\n"
        },
        "id": "BIaov5SIld_P"
      },
      "outputs": [],
      "source": [
        "url = 'https://raw.githubusercontent.com/justmarkham/DAT8/master/data/chipotle.tsv'\n",
        "chipo = pd.read_csv(url, sep='\\t')\n"
      ]
    },
    {
      "cell_type": "markdown",
      "metadata": {
        "pycharm": {
          "name": "#%% md\n"
        },
        "id": "zdgypg-vld_Q"
      },
      "source": [
        "### Step 4. How many products cost more than $10.00?"
      ]
    },
    {
      "cell_type": "code",
      "execution_count": 3,
      "metadata": {
        "pycharm": {
          "name": "#%%\n"
        },
        "colab": {
          "base_uri": "https://localhost:8080/",
          "height": 0
        },
        "id": "UFhJ282ild_Q",
        "outputId": "fbfd8e4c-af9b-4e34-d210-06bfeec7218e"
      },
      "outputs": [
        {
          "output_type": "stream",
          "name": "stdout",
          "text": [
            "Products over $10.00: 1130\n"
          ]
        }
      ],
      "source": [
        "# Chuyển item_price về float\n",
        "chipo['item_price'] = chipo['item_price'].str.replace('$', '').astype(float)\n",
        "\n",
        "# Lọc sản phẩm có giá > 10\n",
        "products_over_10 = chipo[chipo['item_price'] > 10]\n",
        "print(\"Products over $10.00:\", products_over_10.shape[0])\n"
      ]
    },
    {
      "cell_type": "markdown",
      "metadata": {
        "pycharm": {
          "name": "#%% md\n"
        },
        "id": "AfDj6aXSld_Q"
      },
      "source": [
        "### Step 5. What is the price of each item?\n",
        "###### print a data frame with only two columns item_name and item_price"
      ]
    },
    {
      "cell_type": "code",
      "execution_count": 4,
      "metadata": {
        "pycharm": {
          "name": "#%%\n"
        },
        "colab": {
          "base_uri": "https://localhost:8080/",
          "height": 0
        },
        "id": "HlQ3F9T2ld_R",
        "outputId": "eb481d10-21d4-4af5-c9da-5ab24115719a"
      },
      "outputs": [
        {
          "output_type": "stream",
          "name": "stdout",
          "text": [
            "               item_name  item_price\n",
            "0      6 Pack Soft Drink    6.610185\n",
            "1          Barbacoa Bowl   10.187273\n",
            "2       Barbacoa Burrito    9.832418\n",
            "3  Barbacoa Crispy Tacos   10.928182\n",
            "4    Barbacoa Salad Bowl   10.640000\n"
          ]
        }
      ],
      "source": [
        "# Giá mỗi item: lấy giá trung bình theo item_name\n",
        "item_prices = chipo.groupby('item_name')['item_price'].mean().reset_index()\n",
        "print(item_prices.head())\n"
      ]
    },
    {
      "cell_type": "markdown",
      "metadata": {
        "pycharm": {
          "name": "#%% md\n"
        },
        "id": "gJTKtUNAld_R"
      },
      "source": [
        "### Step 6. Sort by the name of the item"
      ]
    },
    {
      "cell_type": "code",
      "execution_count": 5,
      "metadata": {
        "pycharm": {
          "name": "#%%\n"
        },
        "colab": {
          "base_uri": "https://localhost:8080/",
          "height": 0
        },
        "id": "IASJJhqWld_S",
        "outputId": "185a5c17-0b55-48d2-c9ed-f2e22dad663e"
      },
      "outputs": [
        {
          "output_type": "stream",
          "name": "stdout",
          "text": [
            "               item_name  item_price\n",
            "0      6 Pack Soft Drink    6.610185\n",
            "1          Barbacoa Bowl   10.187273\n",
            "2       Barbacoa Burrito    9.832418\n",
            "3  Barbacoa Crispy Tacos   10.928182\n",
            "4    Barbacoa Salad Bowl   10.640000\n"
          ]
        }
      ],
      "source": [
        "sorted_items = item_prices.sort_values(by='item_name')\n",
        "print(sorted_items.head())\n"
      ]
    },
    {
      "cell_type": "markdown",
      "metadata": {
        "pycharm": {
          "name": "#%% md\n"
        },
        "id": "G1SXcS5Hld_S"
      },
      "source": [
        "### Step 7. What was the quantity of the most expensive item ordered?"
      ]
    },
    {
      "cell_type": "code",
      "execution_count": 6,
      "metadata": {
        "pycharm": {
          "name": "#%%\n"
        },
        "colab": {
          "base_uri": "https://localhost:8080/",
          "height": 0
        },
        "id": "GaVaiHc0ld_S",
        "outputId": "e94b94a0-d0d2-46e0-fd80-8f2605806ded"
      },
      "outputs": [
        {
          "output_type": "stream",
          "name": "stdout",
          "text": [
            "Most expensive item: Chips and Fresh Tomato Salsa\n",
            "Quantity ordered: 15\n"
          ]
        }
      ],
      "source": [
        "most_expensive = chipo.sort_values(by='item_price', ascending=False).iloc[0]\n",
        "print(\"Most expensive item:\", most_expensive['item_name'])\n",
        "print(\"Quantity ordered:\", most_expensive['quantity'])\n"
      ]
    },
    {
      "cell_type": "markdown",
      "metadata": {
        "pycharm": {
          "name": "#%% md\n"
        },
        "id": "52bwAU6uld_S"
      },
      "source": [
        "### Step 8. How many times was a Veggie Salad Bowl ordered?"
      ]
    },
    {
      "cell_type": "code",
      "execution_count": 7,
      "metadata": {
        "pycharm": {
          "name": "#%%\n"
        },
        "colab": {
          "base_uri": "https://localhost:8080/",
          "height": 0
        },
        "id": "9gh_mkt6ld_S",
        "outputId": "ebf4afa9-d7ef-427e-ae67-115f9d3d388e"
      },
      "outputs": [
        {
          "output_type": "stream",
          "name": "stdout",
          "text": [
            "Veggie Salad Bowl ordered: 18\n"
          ]
        }
      ],
      "source": [
        "veggie_salad_count = chipo[chipo['item_name'] == 'Veggie Salad Bowl'].shape[0]\n",
        "print(\"Veggie Salad Bowl ordered:\", veggie_salad_count)\n"
      ]
    },
    {
      "cell_type": "markdown",
      "metadata": {
        "pycharm": {
          "name": "#%% md\n"
        },
        "id": "pMfIyZYlld_T"
      },
      "source": [
        "### Step 9. How many times did someone order more than one Canned Soda?"
      ]
    },
    {
      "cell_type": "code",
      "execution_count": 8,
      "metadata": {
        "pycharm": {
          "name": "#%%\n"
        },
        "colab": {
          "base_uri": "https://localhost:8080/",
          "height": 0
        },
        "id": "cWypJV-9ld_T",
        "outputId": "dd334ea2-c15b-47bf-fb1b-3fbebb0e9ac0"
      },
      "outputs": [
        {
          "output_type": "stream",
          "name": "stdout",
          "text": [
            "Canned Soda ordered more than once: 20\n"
          ]
        }
      ],
      "source": [
        "canned_soda_orders = chipo[(chipo['item_name'] == 'Canned Soda') & (chipo['quantity'] > 1)]\n",
        "print(\"Canned Soda ordered more than once:\", canned_soda_orders.shape[0])\n"
      ]
    }
  ],
  "metadata": {
    "kernelspec": {
      "display_name": "Python 2",
      "language": "python",
      "name": "python2"
    },
    "language_info": {
      "codemirror_mode": {
        "name": "ipython",
        "version": 2
      },
      "file_extension": ".py",
      "mimetype": "text/x-python",
      "name": "python",
      "nbconvert_exporter": "python",
      "pygments_lexer": "ipython2",
      "version": "2.7.11"
    },
    "colab": {
      "provenance": []
    }
  },
  "nbformat": 4,
  "nbformat_minor": 0
}